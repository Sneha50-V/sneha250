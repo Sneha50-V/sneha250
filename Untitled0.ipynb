{
  "nbformat": 4,
  "nbformat_minor": 0,
  "metadata": {
    "colab": {
      "provenance": [],
      "authorship_tag": "ABX9TyMS1+iw6Ahla8BjfWYRrUtT",
      "include_colab_link": true
    },
    "kernelspec": {
      "name": "python3",
      "display_name": "Python 3"
    },
    "language_info": {
      "name": "python"
    }
  },
  "cells": [
    {
      "cell_type": "markdown",
      "metadata": {
        "id": "view-in-github",
        "colab_type": "text"
      },
      "source": [
        "<a href=\"https://colab.research.google.com/github/Sneha50-V/sneha250/blob/main/Untitled0.ipynb\" target=\"_parent\"><img src=\"https://colab.research.google.com/assets/colab-badge.svg\" alt=\"Open In Colab\"/></a>"
      ]
    },
    {
      "cell_type": "code",
      "execution_count": 1,
      "metadata": {
        "colab": {
          "base_uri": "https://localhost:8080/"
        },
        "id": "UjOGV1jWpMHE",
        "outputId": "8a6cd2d2-340d-408c-d43d-7b528d49693d"
      },
      "outputs": [
        {
          "output_type": "stream",
          "name": "stdout",
          "text": [
            "sum= 100\n",
            "diff= 10\n",
            "prod= 2000\n",
            "division= 1.25\n"
          ]
        }
      ],
      "source": [
        "a=50\n",
        "b=40\n",
        "c=10\n",
        "sum=a+b+c\n",
        "diff=a-b\n",
        "prod=a*b\n",
        "division=a/b\n",
        "print('sum=',sum)\n",
        "print('diff=',diff)\n",
        "print('prod=',prod)\n",
        "print('division=',division)\n"
      ]
    },
    {
      "cell_type": "code",
      "source": [
        "import numpy as np\n",
        "arr=np.array((1,2,3))\n",
        "print(\"Array=\",arr)\n",
        "print(type(arr))\n"
      ],
      "metadata": {
        "colab": {
          "base_uri": "https://localhost:8080/"
        },
        "id": "uGsYXgdgsWn7",
        "outputId": "c04ad096-6805-4e15-8465-8b0a6487a2b2"
      },
      "execution_count": 2,
      "outputs": [
        {
          "output_type": "stream",
          "name": "stdout",
          "text": [
            "Array= [1 2 3]\n",
            "<class 'numpy.ndarray'>\n"
          ]
        }
      ]
    }
  ]
}